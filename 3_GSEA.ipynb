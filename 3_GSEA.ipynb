{
 "cells": [
  {
   "cell_type": "markdown",
   "metadata": {},
   "source": [
    "# Part III: Gene Set Enrichment Analysis"
   ]
  },
  {
   "cell_type": "markdown",
   "metadata": {},
   "source": [
    "## Load the required packages"
   ]
  },
  {
   "cell_type": "code",
   "execution_count": null,
   "metadata": {
    "vscode": {
     "languageId": "r"
    }
   },
   "outputs": [],
   "source": [
    "library(MOFA2)\n",
    "library(msigdbr)\n",
    "library(data.table)"
   ]
  },
  {
   "cell_type": "markdown",
   "metadata": {},
   "source": [
    "## Load the MOFA"
   ]
  },
  {
   "cell_type": "code",
   "execution_count": null,
   "metadata": {
    "vscode": {
     "languageId": "python"
    }
   },
   "outputs": [],
   "source": [
    "serialized_mofa_file = file.path(getwd(), \"../220503.MOFAobject.LUAD.hdf5\")\n",
    "MOFAobject.trained <- load_model(serialized_mofa_file)"
   ]
  },
  {
   "cell_type": "markdown",
   "metadata": {},
   "source": [
    "## Load and explore MSIGDB data"
   ]
  },
  {
   "cell_type": "code",
   "execution_count": null,
   "metadata": {
    "vscode": {
     "languageId": "r"
    }
   },
   "outputs": [],
   "source": [
    "msigdbr(species = \"Homo sapiens\")\n",
    "msigdbr_collections() %>% data.frame\n",
    "\n",
    "#EXTRACT SPECIFIC DBs AS BINARY MATRIX\n",
    "msigdb.hallmark <- msigdbr(\n",
    "  species = \"Homo sapiens\",\n",
    "  category = \"H\"\n",
    "  ) %>% as.data.table %>% .[,id:=1] %>%\n",
    "  dcast(gs_name~gene_symbol, value.var=\"id\", fill=0) %>%\n",
    "  column_to_rownames(\"gs_name\") %>% \n",
    "  as.matrix()\n",
    "\n",
    "msigdb.reactome <- msigdbr(\n",
    "  species = \"Homo sapiens\",\n",
    "  category = \"C2\", \n",
    "  subcategory = \"CP:REACTOME\"\n",
    "  ) %>% as.data.table %>% .[,id:=1] %>%\n",
    "  dcast(gs_name~gene_symbol, value.var=\"id\", fill=0) %>%\n",
    "  column_to_rownames(\"gs_name\") %>%\n",
    "  as.matrix()\n",
    "\n",
    "msigdb.gobp <- msigdbr(\n",
    "  species = \"Homo sapiens\",\n",
    "  category = \"C5\", \n",
    "  subcategory = \"GO:BP\"\n",
    "  ) %>% as.data.table %>% .[,id:=1] %>%\n",
    "  dcast(gs_name~gene_symbol, value.var=\"id\", fill=0) %>%\n",
    "  column_to_rownames(\"gs_name\") %>% \n",
    "  as.matrix()\n",
    "\n",
    "#CONVERT TO BINARY MATRIX --- removes duplicate genes\n",
    "msigdb.hallmark[which(msigdb.hallmark > 1)] <-  1\n",
    "msigdb.reactome[which(msigdb.reactome > 1)] <-  1\n",
    "msigdb.gobp[which(msigdb.gobp > 1)] <-  1\n",
    "\n",
    "#RENAME GENE NAMES TO BE IDENTICAL WITH MOFA FEATURE NAMES\n",
    "#LAYER-SPECIFIC! >>> NEED TO REDO FOR PROTEIN AND CNV\n",
    "\n",
    "colnames(msigdb.hallmark) <- str_c(\"rna_\",colnames(msigdb.hallmark)) \n",
    "colnames(msigdb.reactome) <- str_c(\"rna_\",colnames(msigdb.reactome)) \n",
    "colnames(msigdb.gobp) <- str_c(\"rna_\",colnames(msigdb.gobp))"
   ]
  },
  {
   "cell_type": "markdown",
   "metadata": {},
   "source": [
    "## Run *Gene Set Enrichment Analysis*"
   ]
  },
  {
   "cell_type": "code",
   "execution_count": null,
   "metadata": {
    "vscode": {
     "languageId": "r"
    }
   },
   "outputs": [],
   "source": [
    "# Hallmark on positive weights\n",
    "gsea.hallmark.positive <- run_enrichment(MOFAobject.trained, \n",
    "  feature.sets = msigdb.hallmark, \n",
    "  view = \"RNA\", # change perhaps factors\n",
    "  sign = \"positive\"\n",
    ")\n",
    "\n",
    "# Hallmark on negative weights\n",
    "gsea.hallmark.negative <- run_enrichment(MOFAobject.trained, \n",
    "  feature.sets = msigdb.hallmark, \n",
    "  view = \"RNA\",\n",
    "  sign = \"negative\"\n",
    ")\n",
    "\n",
    "#REPEAT FOR REACTOME AND gobp"
   ]
  },
  {
   "cell_type": "markdown",
   "metadata": {},
   "source": [
    "### Visualize results"
   ]
  },
  {
   "cell_type": "code",
   "execution_count": null,
   "metadata": {
    "vscode": {
     "languageId": "r"
    }
   },
   "outputs": [],
   "source": [
    "#SIMPLE GSEA OVERVIEW PER FACTOR, LAYER AND DIRECTIONALITY\n",
    "plot_enrichment(gsea.hallmark.positive, factor=1)\n",
    "plot_enrichment(gsea.hallmark.negative, factor=1)\n",
    "\n",
    "#DETAILED GSEA OVERVIEW PER FACTOR, LAYER AND DIRECTIONALITY\n",
    "plot_enrichment_detailed(gsea.hallmark.positive, factor=1)\n",
    "plot_enrichment_detailed(gsea.hallmark.negative, factor=1)\n",
    "\n",
    "#GSEA HEATMAP\n",
    "#This method generates a heatmap with the adjusted p.values that result from the feature set enrichment analysis. Rows are feature sets and columns are factors.\n",
    "plot_enrichment_heatmap(gsea.hallmark.positive)\n",
    "plot_enrichment_heatmap(gsea.hallmark.negative)\n",
    "\n",
    "#WRITE ENRICHMENT VALUES TO CSV\n",
    "write.csv(as.data.frame(gsea.hallmark.positive$pval.adj), paste0(format(Sys.time(), \"%d-%b-%Y %H.%M\"), \"gsea.hallmark.positive.pvals\", \".csv\"))\n",
    "write.csv(as.data.frame(gsea.hallmark.negative$pval.adj), paste0(format(Sys.time(), \"%d-%b-%Y %H.%M\"), \"gsea.hallmark.negative.pvals\", \".csv\"))"
   ]
  }
 ],
 "metadata": {
  "kernelspec": {
   "display_name": "R",
   "language": "R",
   "name": "ir"
  },
  "language_info": {
   "name": "R"
  },
  "orig_nbformat": 4
 },
 "nbformat": 4,
 "nbformat_minor": 2
}
