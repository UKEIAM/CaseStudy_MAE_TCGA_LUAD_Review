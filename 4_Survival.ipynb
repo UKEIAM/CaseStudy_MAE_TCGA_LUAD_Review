{
 "cells": [
  {
   "cell_type": "markdown",
   "metadata": {},
   "source": [
    "# Part IV: Survival analysis"
   ]
  },
  {
   "cell_type": "markdown",
   "metadata": {},
   "source": [
    "## 1. Load the required packages"
   ]
  },
  {
   "cell_type": "markdown",
   "metadata": {},
   "source": [
    "## 2. Load the saved MOFA and extract the quantities of interest"
   ]
  },
  {
   "cell_type": "markdown",
   "metadata": {},
   "source": [
    "## 3. Create Hazard Ratio Plot"
   ]
  },
  {
   "cell_type": "markdown",
   "metadata": {},
   "source": [
    "## 4. Create Kaplan-Meier-Plot and plot survival over time (factor specific)"
   ]
  },
  {
   "cell_type": "code",
   "execution_count": null,
   "metadata": {
    "vscode": {
     "languageId": "r"
    }
   },
   "outputs": [],
   "source": [
    "# Make dataframe for hazard ratio plot\n",
    "df <- data.frame(\n",
    "  factor = factor(rownames(coef), levels = rev(rownames(coef))),\n",
    "  p      = coef[,\"Pr(>|z|)\"], \n",
    "  coef   = coef[,\"exp(coef)\"], \n",
    "  lower  = s[[\"conf.int\"]][,\"lower .95\"], \n",
    "  higher = s[[\"conf.int\"]][,\"upper .95\"]\n",
    ")\n",
    "\n",
    "# Plot hazard ratio per factor\n",
    "ggplot(df, aes(x=factor, y=coef, ymin=lower, ymax=higher)) +\n",
    "  geom_pointrange( col='#619CFF') + \n",
    "  coord_flip() +\n",
    "  scale_x_discrete() + \n",
    "  labs(y=\"Hazard Ratio\", x=\"\") + \n",
    "  geom_hline(aes(yintercept=1), linetype=\"dotted\") +\n",
    "  theme_bw()"
   ]
  },
  {
   "cell_type": "code",
   "execution_count": null,
   "metadata": {
    "vscode": {
     "languageId": "r"
    }
   },
   "outputs": [],
   "source": [
    "serialized_mofa_file = file.path(getwd(), \"../MOFAobject.LUAD.hdf5\")\n",
    "MOFAobject.trained <- load_model(serialized_mofa_file)\n",
    "\n",
    "SurvObject <- Surv(MOFAobject.trained@samples_metadata$days_to_death, MOFAobject.trained@samples_metadata$vital_status)\n",
    "Z <- get_factors(MOFAobject.trained)[[1]]\n",
    "\n",
    "fit <- coxph(SurvObject ~ Z) \n",
    "fit\n",
    "\n",
    "s <- summary(fit)\n",
    "coef <- s[[\"coefficients\"]]"
   ]
  },
  {
   "cell_type": "code",
   "execution_count": null,
   "metadata": {
    "vscode": {
     "languageId": "r"
    }
   },
   "outputs": [],
   "source": [
    "library(MOFA2)\n",
    "library(survival)\n",
    "library(survminer)"
   ]
  },
  {
   "cell_type": "code",
   "execution_count": null,
   "metadata": {
    "vscode": {
     "languageId": "r"
    }
   },
   "outputs": [],
   "source": [
    "df <- data.frame(\n",
    "  time = SurvObject[,1], \n",
    "  event = SurvObject[,2], Z1 = Z[,1]\n",
    ")\n",
    "cut <- surv_cutpoint(df, variables='Z1')\n",
    "df$FactorCluster <- df$Z1 > cut$cutpoint$cutpoint\n",
    "fit <- survfit(Surv(time, event) ~ FactorCluster, df)\n",
    "\n",
    "ggsurvplot(fit, data = df,\n",
    "  conf.int = TRUE, pval = TRUE,\n",
    "  fun = function(y) y * 100,\n",
    "  legend = \"top\", legend.labs = c(paste(\"low LF 1\"), paste(\"high LF 1\")),\n",
    "  xlab = \"Overall Survival\", ylab=\"Survival probability (%)\", title= \"Factor 1\"\n",
    ")$plot"
   ]
  }
 ],
 "metadata": {
  "kernelspec": {
   "display_name": "R",
   "language": "R",
   "name": "ir"
  },
  "language_info": {
   "codemirror_mode": "r",
   "file_extension": ".r",
   "mimetype": "text/x-r-source",
   "name": "R",
   "pygments_lexer": "r",
   "version": "4.1.3"
  },
  "orig_nbformat": 4
 },
 "nbformat": 4,
 "nbformat_minor": 2
}
