{
 "cells": [
  {
   "cell_type": "markdown",
   "metadata": {},
   "source": [
    "# Part I: Preprocessing"
   ]
  },
  {
   "cell_type": "markdown",
   "metadata": {},
   "source": [
    "## Load the required packages"
   ]
  },
  {
   "cell_type": "code",
   "execution_count": null,
   "metadata": {
    "vscode": {
     "languageId": "r"
    }
   },
   "outputs": [],
   "source": [
    "library(MultiAssayExperiment)\n",
    "library(curatedTCGAData)\n",
    "library(TCGAutils)\n",
    "library(UpSetR)\n",
    "library(DESeq2)\n",
    "library(M3C)\n",
    "library(tidyverse)"
   ]
  },
  {
   "cell_type": "markdown",
   "metadata": {},
   "source": [
    "## Load data"
   ]
  },
  {
   "cell_type": "code",
   "execution_count": null,
   "metadata": {
    "vscode": {
     "languageId": "r"
    }
   },
   "outputs": [],
   "source": [
    "curatedTCGAData(diseaseCode = \"LUAD\", assays = \"*\", version = '2.0.1', dry.run = TRUE)\n",
    "\n",
    "luad.mae<- curatedTCGAData(\n",
    "\tdiseaseCode = \"LUAD\",\n",
    "\tversion='2.0.1',\n",
    "\tassays = c(\n",
    "\t\"RPPAArray\",\n",
    "\t\"RNASeq2GeneNorm\", \n",
    "\t\"GISTIC_ThresholdedByGene\"\n",
    "\t),\n",
    "\tdry.run = FALSE\n",
    ")\n",
    "\n",
    "upsetSamples(luad.mae)"
   ]
  },
  {
   "cell_type": "markdown",
   "metadata": {},
   "source": [
    "## Data Preprocessing"
   ]
  },
  {
   "cell_type": "markdown",
   "metadata": {},
   "source": [
    "### Explore and clean multi array experiment"
   ]
  },
  {
   "cell_type": "code",
   "execution_count": null,
   "metadata": {
    "vscode": {
     "languageId": "r"
    }
   },
   "outputs": [],
   "source": [
    "##ist das nötig oder Artefact von Mutation-Data?\n",
    "luad.updated <- qreduceTCGA(luad.mae, keep.assay = FALSE)\n",
    "\n",
    "##The sampleTables function gives a tally of available samples in the dataset based on the TCGA barcode information.\n",
    "sampleTables(luad.updated)\n",
    "\n",
    "##For reference in interpreting the sample type codes, see the sampleTypes table: https://gdc.cancer.gov/resources-tcga-users/tcga-code-tables/sample-type-codes\n",
    "data(\"sampleTypes\")\n",
    "sampleTypes\n",
    "\n",
    "##nur sampleType 01 >>> 61 samples mit status 02 oder 11 werden entfernt\n",
    "solidtums <- TCGAsampleSelect(colnames(luad.updated), \"01\")\n",
    "luad.processed <- luad.updated[, solidtums, ]\n",
    "\n",
    "\n",
    "##The MultiAssayExperiment package then provides functionality to merge replicate profiles for a single patient (mergeReplicates()), which would now be appropriate but would not have been appropriate before splitting different tissue types into different assays, because that would average measurements from tumors and normal tissues.\n",
    "luad.final <- mergeReplicates(intersectColumns(luad.processed))\n",
    "luad.final"
   ]
  },
  {
   "cell_type": "markdown",
   "metadata": {},
   "source": [
    "### Extract layers\n"
   ]
  },
  {
   "cell_type": "code",
   "execution_count": null,
   "metadata": {
    "vscode": {
     "languageId": "r"
    }
   },
   "outputs": [],
   "source": [
    "####EXPRESSION DATA###\n",
    "rna.matrix <- getWithColData(luad.final, 2L)\n",
    "count.dat <- assay(rna.matrix)\n",
    "pheno.dat <- colData(rna.matrix)\n",
    "\n",
    "##REDUCE FEATURES OF RNA LAYER\n",
    "dds <- DESeqDataSetFromMatrix(countData = round(count.dat),\n",
    "                                 colData = pheno.dat,\n",
    "                                 design = ~ 1)\n",
    "\n",
    "##REMOVE NON-EXPRESSED GENES\n",
    "keep <- rowSums(counts(dds)) > 1\n",
    "dds <- dds[keep,]\n",
    "\n",
    "##VST TRANSFORMATION\n",
    "##This function calculates a variance stabilizing transformation (VST) from the fitted dispersion-mean relation(s) and then transforms the count data (normalized by division by the size factors or normalization factors), yielding a matrix of values which are now approximately homoskedastic (having constant variance along the range of mean values).\n",
    "dds.norm <- vst(dds)\n",
    "\n",
    "##KEEP ONLY MOST VARIABLY EXPRESSED GENES\n",
    "filtered.exp <- featurefilter(assay(dds.norm), percentile=40, method='MAD', topN=10000)\n",
    "filtered.exp.final <- as.matrix(filtered.exp$filtered_data)\n"
   ]
  },
  {
   "cell_type": "markdown",
   "metadata": {},
   "source": [
    "### Convert data"
   ]
  },
  {
   "cell_type": "code",
   "execution_count": null,
   "metadata": {
    "vscode": {
     "languageId": "r"
    }
   },
   "outputs": [],
   "source": [
    "cnvs.matrix <- assay(luad.final[[1L]])\n",
    "rownames(cnvs.matrix) <- luad.final@ExperimentList@listData[[\"LUAD_GISTIC_ThresholdedByGene-20160128\"]]@elementMetadata@listData[[\"Gene.Symbol\"]]\n",
    "\n",
    "##REDUCE FEATURES OF CNV DATA##########\n",
    "##keep CNVs in expression genes only\n",
    "keep.cnvs.final <- rownames(filtered.exp.final)\n",
    "common.cnvs <- intersect(rownames(cnvs.matrix),keep.cnvs.final)\n",
    "filtered.cnvs.final <- cnvs.matrix[common.cnvs,]\n",
    "\n",
    "######PROTEIN DATA##########\n",
    "protein.dat <- assay(luad.final[[3L]])\n",
    "##protein.dat contains 905 NAs which need to be removed\n",
    "protein.final <- na.omit(protein.dat)"
   ]
  },
  {
   "cell_type": "markdown",
   "metadata": {},
   "source": [
    "### Prepare clinical metadata"
   ]
  },
  {
   "cell_type": "code",
   "execution_count": null,
   "metadata": {
    "vscode": {
     "languageId": "r"
    }
   },
   "outputs": [],
   "source": [
    "clin.dat <- as.data.frame(colData(luad.final))\n",
    "\n",
    "clinical.filtered <- clin.dat %>% \n",
    "select(c(patientID, years_to_birth, vital_status, pathologic_stage, pathology_T_stage, pathology_N_stage,\n",
    "gender, radiation_therapy, histological_type,\n",
    "patient.clinical_cqcf.anatomic_neoplasm_subdivision,  patient.tobacco_smoking_history,\n",
    "days_to_death)) \n",
    "\n",
    "staget <- sub(\"[abcd]\",\"\",sub(\"t\",\"\",clinical.filtered$pathology_T_stage))\n",
    "staget <- suppressWarnings(as.integer(staget))\n",
    "clinical.filtered$pathology_T_stage <- staget\n",
    "\n",
    "colData(luad.final) <- S4Vectors::DataFrame(clinical.filtered)"
   ]
  },
  {
   "cell_type": "markdown",
   "metadata": {},
   "source": [
    "### Create new multi array experiment"
   ]
  },
  {
   "cell_type": "code",
   "execution_count": null,
   "metadata": {
    "vscode": {
     "languageId": "r"
    }
   },
   "outputs": [],
   "source": [
    "\n",
    "mae <- c(luad.final, list(RNAseq = filtered.exp.final), mapFrom = \"LUAD_RNASeq2GeneNorm-20160128\")\n",
    "mae <- mae[,,c(1,3,4)]\n",
    "mae[,,c(1,2)] <- list(CNV = filtered.cnvs.final, RPPA=protein.final)\n",
    "\n",
    "experiments <- assays(mae)\n",
    "experiments[[1]] %>% as.matrix -> experiments[[1]]\n",
    "\n",
    "##FEATURE NAMES OF DIFFERENT LAYERS NEED UNIQUE NAMES\n",
    "paste('snv', experiments[[1]] %>% rownames, sep='_') -> rownames(experiments[[1]])\n",
    "paste('protein', experiments[[2]] %>% rownames, sep='_') -> rownames(experiments[[2]])\n",
    "paste('rna', experiments[[3]] %>% rownames, sep='_') -> rownames(experiments[[3]])\n",
    "\n",
    "mae.final <- MultiAssayExperiment(experiments=experiments, colData = colData(mae), sampleMap = sampleMap(mae))"
   ]
  },
  {
   "cell_type": "markdown",
   "metadata": {},
   "source": [
    "### Serialize the multi array experiment"
   ]
  },
  {
   "cell_type": "code",
   "execution_count": null,
   "metadata": {
    "vscode": {
     "languageId": "r"
    }
   },
   "outputs": [],
   "source": [
    "serialized_mae_path = file.path(getwd(), \"../mae.rds\")\n",
    "saveRDS(mae.final, file=serialized_mae_path)"
   ]
  }
 ],
 "metadata": {
  "kernelspec": {
   "display_name": "R",
   "language": "R",
   "name": "ir"
  },
  "language_info": {
   "name": "R"
  },
  "orig_nbformat": 4
 },
 "nbformat": 4,
 "nbformat_minor": 2
}
