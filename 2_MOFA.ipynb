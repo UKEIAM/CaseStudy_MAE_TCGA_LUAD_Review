{
 "cells": [
  {
   "cell_type": "markdown",
   "metadata": {},
   "source": [
    "# Part II: MOFA"
   ]
  },
  {
   "cell_type": "markdown",
   "metadata": {},
   "source": [
    "## 1. Load the required packages"
   ]
  },
  {
   "cell_type": "markdown",
   "metadata": {},
   "source": [
    "## 2. Load the data of the previous step"
   ]
  },
  {
   "cell_type": "markdown",
   "metadata": {},
   "source": [
    "## 3. Run (and save) MOFA"
   ]
  },
  {
   "cell_type": "markdown",
   "metadata": {},
   "source": [
    "### 3.1 Show diagnostic plots"
   ]
  },
  {
   "cell_type": "markdown",
   "metadata": {},
   "source": [
    "## 4. Covariate analysis"
   ]
  },
  {
   "cell_type": "markdown",
   "metadata": {},
   "source": [
    "## 5. Explore results"
   ]
  },
  {
   "cell_type": "code",
   "execution_count": null,
   "metadata": {
    "vscode": {
     "languageId": "r"
    }
   },
   "outputs": [],
   "source": [
    "MOFAobject <- create_mofa(mae.final)\n",
    "\n",
    "plot_data_overview(MOFAobject)\n",
    "\n",
    "data_opts <- get_default_data_options(MOFAobject)\n",
    "data_opts\n",
    "\n",
    "model_opts <- get_default_model_options(MOFAobject)\n",
    "model_opts$num_factors <- 15\n",
    "\n",
    "train_opts <- get_default_training_options(MOFAobject)\n",
    "train_opts$convergence_mode <- \"fast\"\n",
    "\n",
    "MOFAobject <- prepare_mofa(MOFAobject,\n",
    "  data_options = data_opts,\n",
    "  model_options = model_opts,\n",
    "  training_options = train_opts\n",
    ")\n",
    "\n",
    "# Create model file for loading the experiment in previous steps\n",
    "outfile = file.path(getwd(), \"../MOFAobject.LUAD.hdf5\")\n",
    "MOFAobject.trained <- run_mofa(MOFAobject, outfile, use_basilisk = FALSE)\n",
    "views_names(MOFAobject.trained) <- c(\"CNV\",\"Protein\",\"RNA\")"
   ]
  },
  {
   "cell_type": "code",
   "execution_count": null,
   "metadata": {
    "vscode": {
     "languageId": "r"
    }
   },
   "outputs": [],
   "source": [
    "serialized_mae_path = file.path(getwd(), \"../mae.rds\")\n",
    "mae.final <- readRDS(serialized_mae_path)"
   ]
  },
  {
   "cell_type": "code",
   "execution_count": null,
   "metadata": {
    "vscode": {
     "languageId": "r"
    }
   },
   "outputs": [],
   "source": [
    "# Plot the individual top weights on selected Factors regarding specific layers\n",
    "plot_top_weights(MOFAobject.trained,\n",
    "\tview = \"RNA\",\n",
    "\tfactor = 1, \n",
    "\tnfeatures = 10,    \n",
    "\tscale = T)\n",
    "\n",
    "# Plot all samples across factors\n",
    "plot_factor(MOFAobject.trained, \n",
    "\tfactor = 1:15,\n",
    "\tcolor_by = \"gender\",\n",
    "\tshape_by = \"vital_status\")\n",
    "\n",
    "# Example violin plot (factor 3 & gender)\n",
    "violin_plot <- plot_factor(MOFAobject.trained,factor=3, color_by=\"gender\", dodge = T, add_violin=T, add_boxplot=F)\n",
    "violin_plot <- violin_plot + ggpubr::stat_compare_means()\n",
    "plot(violin_plot)\n",
    "\n",
    "# Example scatter plots (top10 expressed genes & pathologic stage)\n",
    "plot_data_scatter(MOFAobject.trained, \n",
    "  view = \"RNA\",\n",
    "  factor = 1,  \n",
    "  features = 10,\n",
    "  sign = \"positive\",\n",
    "  color_by = \"pathologic_stage\"\n",
    ") + labs(y=\"RNA expression\")\n",
    "\n",
    "# Visualization of combinations of factors\n",
    "plot_factors(MOFAobject.trained,\n",
    "\tfactors = 1:5,\n",
    "\tcolor_by = \"pathology_T_stage\"\n",
    ")\n",
    "\n",
    "# Visualization of feature weights\n",
    "plot_weights(MOFAobject.trained,\n",
    "view = \"RNA\",\n",
    "factor = 1,\n",
    "# Number of features to highlight\n",
    "nfeatures = 10, \n",
    "# Scale weights from -1 to 1\n",
    "scale = TRUE, \n",
    "# Take the absolute value?\n",
    "abs = FALSE \n",
    ")\n",
    "\n",
    "# Heatmaps\n",
    "plot_data_heatmap(MOFAobject.trained,\n",
    "view = \"RNA\", # view of interest\n",
    "factor = 1, \n",
    "features = 20, \n",
    "cluster_rows = TRUE, cluster_cols = FALSE,\n",
    "show_rownames = TRUE, show_colnames = FALSE,\n",
    "color = brewer.pal(n = 7, name = \"Blues\")\n",
    ")"
   ]
  },
  {
   "cell_type": "code",
   "execution_count": null,
   "metadata": {
    "vscode": {
     "languageId": "r"
    }
   },
   "outputs": [],
   "source": [
    "library(MOFA2)\n",
    "library(reticulate)\n",
    "library(data.table)\n",
    "library(GGally)\n",
    "library(RColorBrewer)\n",
    "\n",
    "# R needs to interact with Python. We prepared everything - no need to worry about this command.\n",
    "reticulate::use_python(\"/opt/conda/bin/python\", required=TRUE)"
   ]
  },
  {
   "cell_type": "code",
   "execution_count": null,
   "metadata": {
    "vscode": {
     "languageId": "r"
    }
   },
   "outputs": [],
   "source": [
    "plot_factor_cor(MOFAobject.trained)\n",
    "plot_variance_explained(MOFAobject.trained, max_r2=10)\n",
    "plot_variance_explained(MOFAobject.trained, plot_total = T)[[2]]"
   ]
  },
  {
   "cell_type": "code",
   "execution_count": null,
   "metadata": {
    "vscode": {
     "languageId": "r"
    }
   },
   "outputs": [],
   "source": [
    "covariates <- colnames(samples_metadata(MOFAobject.trained))\n",
    "\n",
    "# Remove \"group\",\"patientID\", and \"sample\" from covariates list\n",
    "correlate_factors_with_covariates(MOFAobject.trained, covariates = covariates[-c(3,10,12)], plot=\"log_pval\")"
   ]
  }
 ],
 "metadata": {
  "kernelspec": {
   "display_name": "R",
   "language": "R",
   "name": "ir"
  },
  "language_info": {
   "codemirror_mode": "r",
   "file_extension": ".r",
   "mimetype": "text/x-r-source",
   "name": "R",
   "pygments_lexer": "r",
   "version": "4.1.3"
  },
  "orig_nbformat": 4
 },
 "nbformat": 4,
 "nbformat_minor": 2
}
